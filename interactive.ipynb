{
 "cells": [
  {
   "cell_type": "code",
   "execution_count": 3,
   "id": "602437cf",
   "metadata": {},
   "outputs": [
    {
     "data": {
      "text/plain": [
       "17.243589743589745"
      ]
     },
     "execution_count": 3,
     "metadata": {},
     "output_type": "execute_result"
    }
   ],
   "source": [
    "1345/78"
   ]
  },
  {
   "cell_type": "code",
   "execution_count": null,
   "id": "255cc4aa",
   "metadata": {},
   "outputs": [
    {
     "name": "stdout",
     "output_type": "stream",
     "text": [
      "Hi outskill\n"
     ]
    }
   ],
   "source": [
    "print(\"Hi outskill\")\n",
    "print(\"Happy learning\")"
   ]
  }
 ],
 "metadata": {
  "kernelspec": {
   "display_name": "Python 3",
   "language": "python",
   "name": "python3"
  },
  "language_info": {
   "codemirror_mode": {
    "name": "ipython",
    "version": 3
   },
   "file_extension": ".py",
   "mimetype": "text/x-python",
   "name": "python",
   "nbconvert_exporter": "python",
   "pygments_lexer": "ipython3",
   "version": "3.13.3"
  }
 },
 "nbformat": 4,
 "nbformat_minor": 5
}
